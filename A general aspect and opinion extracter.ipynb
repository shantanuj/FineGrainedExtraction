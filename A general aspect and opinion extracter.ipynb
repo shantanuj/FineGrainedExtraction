{
 "cells": [
  {
   "cell_type": "markdown",
   "metadata": {},
   "source": [
    "### Problem Description:\n",
    "\n",
    "How can we make a general system to identify key aspect words and key opinion words. While AI systems (rapid domain expert babies) would be highly specialized in learning domain specific knowledge, they should also exhibit general human level linguistic parsing. <b>Ideally a system should be able to:</b>\n",
    "\n",
    "1. Detect key topics and human opinion in any converstation/parsing of text. \n",
    "2. Inform when it is not able to confidently do so. Learn from user, and adapt to domain. \n",
    "\n",
    "### Sub Problems\n",
    "1) Extract aspect and opinion words from given sentence.\n",
    "> Example 1: \"I enjoyed the dinner roll at Starbucks, and service as usual was quick; however, the coffee was bland\"\n",
    ">> Aspects:  dinner roll at Starbucks; service; coffee\n",
    ">> /Opinions: enjoyed; quick; bland \n",
    "\n",
    "> Example 2: \"I love the prospect of building reasoning networks with access to multiple processors for understanding.\" \n",
    ">> Aspects: prospect of building reasoning networks with acess.... understanding \n",
    ">> /Opinions: love\n",
    "\n",
    "2) Given a sentence, tag each word/token as one of the following: {BA, IA, BO, IO, N}\n",
    ">> In example1: N BO N/BA BA/IA IA IA IA N BA N N N BA \n",
    "\n",
    "3) Transfer model to another distribution/domain of inputs. Ideally model requires 0 new labels for transfer.\n",
    "\n",
    "4) Propose methods for tutoring and confidence scores for domain transfer. (Learn new properties, modify objective parameters, etc)\n"
   ]
  },
  {
   "cell_type": "markdown",
   "metadata": {},
   "source": [
    "### Applications:\n",
    "\n",
    "\n",
    "1) Key aspect and opinion extraction for large corpora. \n",
    "\n",
    "2) Learning general natural language properties that help in achieving transfer.\n",
    "\n",
    "3) Natural language speech processing- priming networks. Ability to extract a key topic and percieved user sentiment. \n",
    "\n",
    "\n"
   ]
  },
  {
   "cell_type": "markdown",
   "metadata": {},
   "source": [
    "### Problem Components\n",
    "***\n",
    "1. Linguistic properties: Aspects and opinions likelihoods. \n",
    "2. Bayesian distributions: Likelihood of observing \n",
    "3. Domain changes: \n",
    "4. What are aspects\n",
    "5. What is sentiment- implicit and explicit\n",
    "6. What is "
   ]
  },
  {
   "cell_type": "code",
   "execution_count": null,
   "metadata": {
    "collapsed": true
   },
   "outputs": [],
   "source": [
    "crf_sent_features = sent2features(d, sent, h_input) \n",
    "    #when parameters are updated, hidden vectors are also updated for crf input\n",
    "    #this is for updating CRF input features, num is the index of the instance\n",
    "    trainer.modify(crf_sent_features, num)\n",
    "    # crf feature dimension\n",
    "    attr_size = 3 * (d + 1) + 3\n",
    "    d_size = (len(tree.nodes) - 1) * attr_size\n",
    "    #delta for hidden matrix from crf\n",
    "    delta_features = np.zeros(d_size)\n",
    "    \n"
   ]
  },
  {
   "cell_type": "markdown",
   "metadata": {
    "collapsed": true
   },
   "source": [
    "## My current plan and questions to be answered:\n",
    "***\n",
    "1. <b>Dataset</b> \n",
    "    - Any other general datasets for AI goal?\n",
    "\n",
    "\n",
    "2. <b>Baseline: Simple LSTM with CRF or LSTM with additional POS tags model</b>\n",
    "\n",
    "\n",
    "3. <b>How to capture linguistic/other properties for ABSA?</b>\n",
    "    - Linguistic exploitation-> Dependency tree LSTM (Optional) \n",
    "\n",
    "\n",
    "4. <b>Domain differences: How to capture general domain differences? </b>\n",
    "    - Capturing domain linguistics through word senses and domain embeddings\n",
    "    - PLAN 1: Jointly train word embeddings for domains. Ex: I was hooked to the game till the very end. \n",
    "    - Simulating noisy autoencoders \n",
    "    - Noisy channel\n",
    "    - Pose\n",
    "    - Priming nets (Bio inspired)\n",
    "\n",
    "\n",
    "5. <b>Tutoring/semi supervised network: How to learn new properties?  How to output confidence?</b>\n",
    "    -  Priming nets (Bio inspired)\n",
    "    -  Region of acceptability-> tennis ball and football juggling.\n",
    "\n",
    "\n",
    "6. <b>Other fun stuff: Can we do anything with existing properties/data to learn new differences/properties? </b>\n",
    "    - Experimental net, self experimental network to learn better domain properties."
   ]
  },
  {
   "cell_type": "code",
   "execution_count": 1,
   "metadata": {},
   "outputs": [
    {
     "name": "stdout",
     "output_type": "stream",
     "text": [
      "A general aspect and opinion extracter.ipynb  \u001b[0m\u001b[01;34mMy_code\u001b[0m/\r\n",
      "\u001b[01;34mDA_papers+word_sense\u001b[0m/                         \u001b[01;34mPriming Net\u001b[0m/\r\n",
      "Dataset_Creation.ipynb                        Problem and Plan.docx\r\n",
      "\u001b[01;34mFinal_data\u001b[0m/                                   \u001b[01;34mWenya_code\u001b[0m/\r\n"
     ]
    }
   ],
   "source": []
  },
  {
   "cell_type": "code",
   "execution_count": null,
   "metadata": {},
   "outputs": [],
   "source": []
  }
 ],
 "metadata": {
  "kernelspec": {
   "display_name": "Python 2",
   "language": "python",
   "name": "python2"
  },
  "language_info": {
   "codemirror_mode": {
    "name": "ipython",
    "version": 2
   },
   "file_extension": ".py",
   "mimetype": "text/x-python",
   "name": "python",
   "nbconvert_exporter": "python",
   "pygments_lexer": "ipython2",
   "version": "2.7.12"
  }
 },
 "nbformat": 4,
 "nbformat_minor": 2
}
