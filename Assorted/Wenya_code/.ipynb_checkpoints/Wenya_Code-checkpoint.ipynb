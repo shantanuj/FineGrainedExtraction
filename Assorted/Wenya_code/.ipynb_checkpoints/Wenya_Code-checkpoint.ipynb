{
 "cells": [
  {
   "cell_type": "code",
   "execution_count": 1,
   "metadata": {
    "collapsed": true
   },
   "outputs": [],
   "source": [
    "import pandas as pd\n",
    "import _pickle as cPickle"
   ]
  },
  {
   "cell_type": "code",
   "execution_count": 14,
   "metadata": {},
   "outputs": [
    {
     "name": "stdout",
     "output_type": "stream",
     "text": [
      " Volume in drive C is OS\n",
      " Volume Serial Number is 7E3A-D76F\n",
      "\n",
      " Directory of C:\\Users\\shant\\Documents\\gDRIVE\\2017\\Academics\\ABSA\\CURRENT INvestigation\\Wenya_code\\rncrf\\data\n",
      "\n",
      "08/12/2017  21:43    <DIR>          .\n",
      "08/12/2017  21:43    <DIR>          ..\n",
      "08/12/2017  21:43             1,501 README\n",
      "08/12/2017  21:43             9,388 test_laptop\n",
      "08/12/2017  21:43            13,375 test_restaurant\n",
      "08/12/2017  21:43            36,121 train_laptop\n",
      "08/12/2017  21:43            45,802 train_restaurant\n",
      "               5 File(s)        106,187 bytes\n",
      "               2 Dir(s)  252,192,059,392 bytes free\n"
     ]
    }
   ],
   "source": [
    "%ls rncrf\\data\\"
   ]
  },
  {
   "cell_type": "code",
   "execution_count": 67,
   "metadata": {
    "collapsed": true
   },
   "outputs": [],
   "source": [
    "f1 = open(\"cmla/util/data_semEval/sentence_res15\",'r')"
   ]
  },
  {
   "cell_type": "code",
   "execution_count": 83,
   "metadata": {
    "collapsed": true
   },
   "outputs": [],
   "source": [
    "x = f1.readline()"
   ]
  },
  {
   "cell_type": "code",
   "execution_count": 84,
   "metadata": {},
   "outputs": [
    {
     "data": {
      "text/plain": [
       "'Saul is the best restaurant on Smith Street and in Brooklyn\\n'"
      ]
     },
     "execution_count": 84,
     "metadata": {},
     "output_type": "execute_result"
    }
   ],
   "source": [
    "x"
   ]
  },
  {
   "cell_type": "code",
   "execution_count": null,
   "metadata": {
    "collapsed": true
   },
   "outputs": [],
   "source": []
  }
 ],
 "metadata": {
  "kernelspec": {
   "display_name": "Python 3",
   "language": "python",
   "name": "python3"
  },
  "language_info": {
   "codemirror_mode": {
    "name": "ipython",
    "version": 3
   },
   "file_extension": ".py",
   "mimetype": "text/x-python",
   "name": "python",
   "nbconvert_exporter": "python",
   "pygments_lexer": "ipython3",
   "version": "3.6.3"
  }
 },
 "nbformat": 4,
 "nbformat_minor": 2
}
