{
 "cells": [
  {
   "cell_type": "markdown",
   "metadata": {},
   "source": [
    "### Problem: JUST SEE THE EMAIL\n",
    "\n",
    "Detect aspect and opinion terms in a sentence.\n",
    "> Comprehensive overview: \"WHAT IS ABSA.pdf\"\n",
    "    \n",
    "   1. Approach as a sequence labelling problem? \n",
    "    \n",
    "    2. What is an aspect term. Implicit vs explicit. \n",
    "  >>Q: Is an aspect always a noun/verb?\n",
    "    \n",
    "    \n",
    "    3. Opinion term definition. \n",
    ">> Q: Is an opinion term always an adverb/adjective or verb?\n",
    "    \n",
    "    \n",
    "   4. CURRENT useful properties to exploit for labelling:\n",
    "        1. Dependency tree (RNCRF)\n",
    "        2. Word position\n",
    "        3. Word2vec to give info about word type as a starting point (Feature)\n",
    "        4. <b> PRIMING NET--> to be explored later</b> \n",
    "            1. Semantic Priming in a Cortical Network Model paper\n",
    "            2. Study primining and linkage to NL understanding. http://abacus.bates.edu/~tkahan/priming.htm \n",
    "    \n",
    "    \n",
    "    5. <b>Current Baseline/DL models: </b>\n",
    "        1. LSTM + LSTM_POS tags\n",
    "        2. LSTM + CRF\n",
    "\n",
    "\n",
    "Domain translation\n",
    " In this task, basic question is what properties/features learned from source domain remain in target domain. 2nd question is what new properties are needed, how can we best ask user for these properties by experimenting within? \n",
    "    1. Comprehensive overview at Transfer 1.pdf\n",
    "    2. How do words change across domain, joint representations?,"
   ]
  },
  {
   "cell_type": "code",
   "execution_count": null,
   "metadata": {},
   "outputs": [],
   "source": []
  }
 ],
 "metadata": {
  "kernelspec": {
   "display_name": "Python 2",
   "language": "python",
   "name": "python2"
  },
  "language_info": {
   "codemirror_mode": {
    "name": "ipython",
    "version": 2
   },
   "file_extension": ".py",
   "mimetype": "text/x-python",
   "name": "python",
   "nbconvert_exporter": "python",
   "pygments_lexer": "ipython2",
   "version": "2.7.12"
  }
 },
 "nbformat": 4,
 "nbformat_minor": 2
}
