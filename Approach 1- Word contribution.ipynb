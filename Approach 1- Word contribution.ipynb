{
 "cells": [
  {
   "cell_type": "code",
   "execution_count": 1,
   "metadata": {},
   "outputs": [],
   "source": [
    "import pandas as pd\n",
    "#import torch\n",
    "#import nltk\n",
    "import numpy as np\n",
    "#import tensorflow as tf"
   ]
  },
  {
   "cell_type": "code",
   "execution_count": 2,
   "metadata": {},
   "outputs": [],
   "source": [
    "laptop_data = pd.read_csv(\"./Final_data/Semeval_14_ver1/Combined_laptop.csv\")\n",
    "rest_data = pd.read_csv(\"./Final_data/Semeval_14_ver1/Combined_restaurant.csv\")"
   ]
  },
  {
   "cell_type": "markdown",
   "metadata": {},
   "source": [
    "#### Domain features/objects/relevant functions"
   ]
  },
  {
   "cell_type": "code",
   "execution_count": 3,
   "metadata": {},
   "outputs": [],
   "source": [
    "class Domain1:\n",
    "    def __init__(self, parameters):\n",
    "        None\n",
    "    \n",
    "class Domain2:\n",
    "    def __init__(self, parameters):\n",
    "        None\n",
    "    \n",
    "    \n",
    "def find_approximate_occurance_based_on_structure(): #computes similarity between two sentences based on word structure and word contribution\n",
    "    '''Example:\n",
    "    s1: It is very overpriced and not very tasty\n",
    "    s2: This lacks the features and is very expensive.\n",
    "    s3: This lacks the features and is very expensive for a model A laptop.\n",
    "    s4: It is very overpriced and not very tasty for a Michelin star restaraunt. \n",
    "    overpriced= expensive\n",
    "    tasty = feaatures\n",
    "    very = very\n",
    "    not = lack\n",
    "    Michelin star = model A \n",
    "    \n",
    "    Domain dependent words--> get_domain_dependent_words()\n",
    "    Domain independent words --> get_independent_words()\n",
    "    \n",
    "    'very expensive' is together/combined word \n",
    "    '''\n",
    "    None\n",
    "    \n",
    "def find_approximate_occurance_based_on_words():\n",
    "    '''Example:\n",
    "    \n",
    "    '''\n",
    "    None\n",
    "    \n",
    "def find_inter_domain_similarity():\n",
    "    None"
   ]
  },
  {
   "cell_type": "markdown",
   "metadata": {},
   "source": [
    "#### Approach:\n",
    "\n",
    "1. Baseline simple method: BiLSTM + CRF.  This is a baseline model. We need a model with high coverage (high false positives) and then trim the selection using the below model. This can either be simple rules, syntactic structures, just any model with high number of false positives. \n",
    "\n",
    "\n",
    "2. Given a sentence S, train an encoder-decoder network to reproduce the sentence. Compute last hidden state representation based on model M (S-> S). After training for a while, for each sentence: for each aspect word: remove BA, IA labelled words, and get representation. 2nd model takes this representation and the original sentence + some noisy cases and outputs a 1 or 0 depending on task. Effectively, 2nd model is learning to use incomplete representation and other info to learn whether it is an aspect/opinion term. \n",
    "\n",
    "\n",
    "To find out word contribution, by training a model based on missing words. So, if a word is removed, get some representation. Embed the ones with aspects missing to a similar space. Meaning if I have a sentence: I love their ice-cream so much. Then remove ice-cream, get a representation of the sentence, and a representation of the normal (with ice-cream sentence). Using these representations, map as similar (1) in a Siamese net. Now take all other (except opinion terms) and use same model to get representation. But the final model outputs the representations as dissimilar.\n",
    "\n",
    "    G(F(I love their so much), F(I love their ice cream so much)) = 1\n",
    "    G(F(love their ice cream so much), F(I love their ice cream so much)) = 0\n",
    "    G(F(I love their ice cream), F(I love their ice cream so much)) = 2\n",
    "    G(F(I love ice cream so much), F(Sentence)) = \n",
    "\n",
    "\n",
    "\n",
    "        Another approach could be if we remove the word then from all the mined words, if we replace the term with it, does the sentence still make sense (is it legible)-> then it is an aspect word. \n",
    "\n",
    "        So given s= I love their ice cream so much, if we remove ice-cream then replace it with say 50 previous aspect words like -> football, passing, nachos, ambience, does it still make sense? A model M is trained to identify whether a sentence still makes sense. \n"
   ]
  },
  {
   "cell_type": "markdown",
   "metadata": {},
   "source": [
    "#### What is an aspect and what is an opinion term?\n",
    "\n",
    "S1: 'Plus it is small and reasonably light so I can take it with me to and from work. -> small, reasonably light\n",
    "\n",
    "S2:'If internet connectivity is important I would recommend going with a dell net book for 50 bucks more, or buy a USB wireless card.' -> recommend, and internet connectivity;USB wireless card\n",
    "\n",
    "S3: \"Rao is a good restaurant, but it's nothing special.\" -> good, nothing special\n",
    "\n",
    "S4: iLife is easily compatible with Microsoft Office so you can send and receive files from a PC.--> easily compatible-->  iLife;Microsoft Office \n",
    "\n",
    "S5: \"people are rude bit again it's new york!\" -> rude; people\n",
    "\n",
    "S6: \"The speed is incredible and I am more than satisfied.\" --> incredible, 'more than satisfied', 'speed'\n",
    "\n",
    "\n",
    "\n"
   ]
  },
  {
   "cell_type": "code",
   "execution_count": 119,
   "metadata": {},
   "outputs": [
    {
     "data": {
      "text/plain": [
       "(['My only other complaint is that it gets really hot.',\n",
       "  'I could not even put my entire music collection on this garabage.',\n",
       "  'Back then my entire family was Devoted to the Sony name.',\n",
       "  'Plus it is small and reasonably light so I can take it with me to and from work.',\n",
       "  'I also experience the same with my MacBook Air.'],\n",
       " [\"Just don't do it.\",\n",
       "  'So some of the reviews here are accurate about the crowd and noise.',\n",
       "  'Service was very friendly.',\n",
       "  \"Don't judge this place prima facie, you have to try it to believe it, a home away from home for the literate heart.\",\n",
       "  'I love this cozy around the way Rest.'])"
      ]
     },
     "execution_count": 119,
     "metadata": {},
     "output_type": "execute_result"
    }
   ],
   "source": [
    "#get_pd_column = lambda df,column:df.column \n",
    "lap_sentences = selected_lap_examples.Sentence.tolist()\n",
    "rest_sentences = selected_rest_examples.Sentence.tolist()\n",
    "zip(lap_sentencesrest_sentences"
   ]
  },
  {
   "cell_type": "code",
   "execution_count": 7,
   "metadata": {},
   "outputs": [
    {
     "data": {
      "text/plain": [
       "'To do:\\nMake baseline Bi-directional LSTM and top-CRF model with info about POS tags \\n\\nInputs: POS_tags; Dependency relation wrt next word; Word vector (context info); Info about influence of a word \\n\\nQ: To get a better representation what can we do to the architecture itself (rather than feeding in more features)\\nQ: How do we obtain the influence of a word in a sentence (like on a color scale); attention\\nQ: How do we obtain the interdependeny of words -> dependency structure OR POSE OF WORDS\\nQ: Define interdependency with an example\\n'"
      ]
     },
     "execution_count": 7,
     "metadata": {},
     "output_type": "execute_result"
    }
   ],
   "source": [
    "'''To do:\n",
    "Make baseline Bi-directional LSTM and top-CRF model with info about POS tags \n",
    "\n",
    "Inputs: POS_tags; Dependency relation wrt next word; Word vector (context info); Info about influence of a word \n",
    "\n",
    "Q: To get a better representation what can we do to the architecture itself (rather than feeding in more features)\n",
    "Q: How do we obtain the influence of a word in a sentence (like on a color scale); attention\n",
    "Q: How do we obtain the interdependeny of words -> dependency structure OR POSE OF WORDS\n",
    "Q: Define interdependency with an example\n",
    "'''"
   ]
  },
  {
   "cell_type": "code",
   "execution_count": 4,
   "metadata": {},
   "outputs": [],
   "source": [
    "import torch\n",
    "import torch.nn as nn\n",
    "import torch.optim as optim\n",
    "import torch.autograd as autograd \n",
    "import pandas as pd\n",
    "import nltk \n",
    "import spacy\n",
    "import string\n",
    "torch.manual_seed(10)\n"
   ]
  },
  {
   "cell_type": "code",
   "execution_count": 5,
   "metadata": {},
   "outputs": [],
   "source": [
    "#import data\n",
    "laptop_data = pd.read_csv(\"./Final_data/Semeval_14_ver1/Combined_laptop.csv\")\n",
    "#rest_data = pd.read_csv(\"./Final_data/Semeval_14_ver1/Combined_restaurant.csv\")"
   ]
  },
  {
   "cell_type": "markdown",
   "metadata": {},
   "source": [
    "### Method 1: Using missing words \n",
    "\n",
    "1. Remove respective word and train a model to either detect whether sentence is legible or not. 2nd way: can we get a frequency method to fill in the blank with respective HISTORIC/TRAINING 'other' words, 'opinion' words or 'aspect' words and see which make the most sense.\n",
    "\n",
    "2. Remove respective word(s) and first train an autoencoding-decoding network (normal sentences- no missing words). Then train a 2nd model to take normal repreenation and missing representation, and output 'OP' , 'AP' or 'OTH' \n",
    "    1. Would adding noise to the first autoencoding network be beneficial?\n",
    "    2. Should the 1st model be frozen when we begin training the 2nd model?\n",
    "    3. Should a new sentence be autencoded few times and then use pretrained 2nd model from training?\n",
    "    4. Is using a dependency structure as in Wenya's better. THere's something here, a better way to capture missing word importance representation- something like attention in this dependency structure\n",
    "    5. How do we get prospective words to choose words to remove?: <b>Principle: All nouns are equal, but some nouns are more important. What makes these more important? </b>\n",
    "    6. How do we resolve multi aspect/opinion (BA,IA) expressions? \n",
    "    "
   ]
  },
  {
   "cell_type": "markdown",
   "metadata": {},
   "source": [
    "#### Answering the question: Why are some nouns (of the same tag) more relevant- as an aspect/opinion- than others?  Below we see examples of such occurances (same word tag- but one of them is an aspect/opinion and the other an 'other' )"
   ]
  },
  {
   "cell_type": "code",
   "execution_count": 59,
   "metadata": {},
   "outputs": [],
   "source": [
    "import spacy\n",
    "import nltk\n",
    "import pandas as pd\n",
    "import numpy as np\n",
    "import pickle, csv\n",
    "\n",
    "from nltk import Tree\n",
    "\n",
    "#nlp = spacy.load('en') #load spacy model"
   ]
  },
  {
   "cell_type": "code",
   "execution_count": 49,
   "metadata": {},
   "outputs": [],
   "source": [
    "#Alternatively all this is stored now in pickle files, so do not need to rerun parsing,etc\n",
    "laptop_data = pickle.load(open('laptop_final_additional_training_list.pickle','rb'))\n",
    "tag_to_id = pickle.load(open('laptop_final_tag2id.pickle'))\n",
    "id_to_tag = {id_:tag for tag, id_ in tag_to_id.items()}\n",
    "word_to_id = pickle.load(open('laptop_final_vocab.pickle'))\n",
    "id_to_word = {id_:word for word, id_ in word_to_id.items()}\n",
    "vocab_len = len(word_to_id)"
   ]
  },
  {
   "cell_type": "code",
   "execution_count": 50,
   "metadata": {},
   "outputs": [
    {
     "data": {
      "text/plain": [
       "('I charge it at night and skip taking the cord with me because of the good battery life',\n",
       " [5, 5, 5, 5, 5, 5, 5, 5, 5, 1, 5, 5, 5, 5, 5, 3, 1, 2],\n",
       " [('I', 'PRON', 'PRP', 'nsubj'),\n",
       "  ('charge', 'VERB', 'VBP', 'ROOT'),\n",
       "  ('it', 'PRON', 'PRP', 'dobj'),\n",
       "  ('at', 'ADP', 'IN', 'prep'),\n",
       "  ('night', 'NOUN', 'NN', 'pobj'),\n",
       "  ('and', 'CCONJ', 'CC', 'cc'),\n",
       "  ('skip', 'VERB', 'VB', 'conj'),\n",
       "  ('taking', 'VERB', 'VBG', 'xcomp'),\n",
       "  ('the', 'DET', 'DT', 'det'),\n",
       "  ('cord', 'NOUN', 'NN', 'dobj'),\n",
       "  ('with', 'ADP', 'IN', 'prep'),\n",
       "  ('me', 'PRON', 'PRP', 'pobj'),\n",
       "  ('because', 'ADP', 'IN', 'prep'),\n",
       "  ('of', 'ADP', 'IN', 'pcomp'),\n",
       "  ('the', 'DET', 'DT', 'det'),\n",
       "  ('good', 'ADJ', 'JJ', 'amod'),\n",
       "  ('battery', 'NOUN', 'NN', 'compound'),\n",
       "  ('life', 'NOUN', 'NN', 'pobj')])"
      ]
     },
     "execution_count": 50,
     "metadata": {},
     "output_type": "execute_result"
    }
   ],
   "source": [
    "#get_more_than_n_tag_occurs = lambda n, tag, tagged_tokens: [word for i in tagged_tokens if i[1]==tag] \n",
    "\n",
    "def get_more_than_n_tag_occurs(tagged_tokens, n= 2 , tag_list= [\"NOUN\",\"PRON\"], tag_index = 1):\n",
    "    filtered_toks = [i for i in tagged_tokens if i[tag_index] in tag_list]\n",
    "    if(len(filtered_toks)>=n):\n",
    "        return filtered_toks\n",
    "    else:\n",
    "        return len(filtered_toks)\n",
    "    \n",
    "' '.join(laptop_data[0][0]), laptop_data[0][1], laptop_data[0][2]\n",
    "#' '.join(laptop_data[0][0]), get_more_than_n_tag_occurs(laptop_data[0][2])\n",
    "#How is night and cord and battery_life different? \n",
    "#From a human level, 'night' is representing when the person ('I') is doing something. \n",
    "#Whereas cord\n",
    "\n",
    "#good is the only adjective here\n",
    "#laptop_data[0][0], get_more_than_n_tag_occurs(laptop_data[0][2])"
   ]
  },
  {
   "cell_type": "code",
   "execution_count": 53,
   "metadata": {},
   "outputs": [
    {
     "name": "stdout",
     "output_type": "stream",
     "text": [
      "('NOUN case:', 'it is of high quality has a killer GUI is extremely stable is highly expandable is bundled with lots of very good applications is easy to use and is absolutely gorgeous', [('quality', 'NOUN', 'NN', 'pobj'), ('killer', 'NOUN', 'NN', 'compound'), ('GUI', 'PROPN', 'NNP', 'nsubj'), ('lots', 'NOUN', 'NNS', 'pobj'), ('applications', 'NOUN', 'NNS', 'pobj')])\n",
      "('ADJ case:', 'it is of high quality has a killer GUI is extremely stable is highly expandable is bundled with lots of very good applications is easy to use and is absolutely gorgeous', [('high', 'ADJ', 'JJ', 'amod'), ('stable', 'ADJ', 'JJ', 'acomp'), ('expandable', 'ADJ', 'JJ', 'acomp'), ('good', 'ADJ', 'JJ', 'amod'), ('easy', 'ADJ', 'JJ', 'acomp'), ('gorgeous', 'ADJ', 'JJ', 'acomp')])\n"
     ]
    },
    {
     "data": {
      "text/plain": [
       "[('it', 'OT'),\n",
       " ('is', 'OT'),\n",
       " ('of', 'OT'),\n",
       " ('high', 'BO'),\n",
       " ('quality', 'BA'),\n",
       " ('has', 'OT'),\n",
       " ('a', 'OT'),\n",
       " ('killer', 'OT'),\n",
       " ('GUI', 'BA'),\n",
       " ('is', 'OT'),\n",
       " ('extremely', 'OT'),\n",
       " ('stable', 'BO'),\n",
       " ('is', 'OT'),\n",
       " ('highly', 'OT'),\n",
       " ('expandable', 'BO'),\n",
       " ('is', 'OT'),\n",
       " ('bundled', 'OT'),\n",
       " ('with', 'OT'),\n",
       " ('lots', 'OT'),\n",
       " ('of', 'OT'),\n",
       " ('very', 'OT'),\n",
       " ('good', 'BO'),\n",
       " ('applications', 'BA'),\n",
       " ('is', 'OT'),\n",
       " ('easy', 'BO'),\n",
       " ('to', 'OT'),\n",
       " ('use', 'BA'),\n",
       " ('and', 'OT'),\n",
       " ('is', 'OT'),\n",
       " ('absolutely', 'OT'),\n",
       " ('gorgeous', 'BO')]"
      ]
     },
     "execution_count": 53,
     "metadata": {},
     "output_type": "execute_result"
    }
   ],
   "source": [
    "print(\"NOUN case:\", ' '.join(laptop_data[5][0]), get_more_than_n_tag_occurs(laptop_data[5][2], tag_list=[\"NOUN\",\"PROPN\"]))\n",
    "print(\"ADJ case:\", ' '.join(laptop_data[5][0]), get_more_than_n_tag_occurs(laptop_data[5][2], tag_list=[\"ADJ\"]))\n",
    "\n",
    "'''\n",
    "Very interesting example\n",
    "quality is actually an Opinion term<- how do we know this, because it's part of an ADJ modification (high quality, good quality, etc,)What if it occured independently?\n",
    "Ex: It's quality is suspect. <- THis is an aspect \n",
    "\n",
    "So many cases of ADJ and NOUN yet only few are chosen. Why: answer this\n",
    "\n",
    "Also, opinions do not have to be restricted to aspects \n",
    "'''\n",
    "\n",
    "list(zip(laptop_data[5][0],map(lambda x: id_to_tag[x], laptop_data[5][1])))\n"
   ]
  },
  {
   "cell_type": "code",
   "execution_count": 35,
   "metadata": {},
   "outputs": [
    {
     "data": {
      "text/plain": [
       "{'<END>': -1, '<START>': 0, 'BA': 1, 'BO': 3, 'IA': 2, 'IO': 4, 'OT': 5}"
      ]
     },
     "execution_count": 35,
     "metadata": {},
     "output_type": "execute_result"
    }
   ],
   "source": [
    "#Make autoencoder model, train it to reproduce same sentence by computing final hidden representation. \n",
    "#Ans the question is adding noise to this worth it? \n",
    "\n",
    "#Noise reconstruction means we try to get representations through incomplete info to be approximately the same as with complete info.\n",
    "#If we are using a model to learn how the difference between a noisy representation and a compelete representation (missing word vs no missing word), then we want the representation to be different, and not almost the same. \n",
    "\n",
    "#2nd question why does a missing word which has the same tag/context not be included"
   ]
  },
  {
   "cell_type": "code",
   "execution_count": 56,
   "metadata": {},
   "outputs": [
    {
     "data": {
      "text/plain": [
       "'I charge it at night and skip taking the cord with me because of the good battery life'"
      ]
     },
     "execution_count": 56,
     "metadata": {},
     "output_type": "execute_result"
    }
   ],
   "source": [
    "#How do parser trees change with deletion of items\n",
    "' '.join(laptop_data[0][0])"
   ]
  },
  {
   "cell_type": "code",
   "execution_count": 88,
   "metadata": {},
   "outputs": [
    {
     "data": {
      "text/plain": [
       "'I charge it at night and skip taking the with me because of the good'"
      ]
     },
     "execution_count": 88,
     "metadata": {},
     "output_type": "execute_result"
    }
   ],
   "source": [
    "#Get dependency parser tree: https://stackoverflow.com/questions/36610179/how-to-get-the-dependency-tree-with-spacy\n",
    "\n",
    "\n",
    "\n",
    "\n",
    "def tok_format(tok):\n",
    "    return \"_\".join([tok.orth_, tok.tag_])\n",
    "\n",
    "\n",
    "\n",
    "\n",
    "def to_nltk_tree(node, token_tagged = False):\n",
    "    if node.n_lefts + node.n_rights > 0:\n",
    "        if token_tagged:\n",
    "            return Tree(tok_format(node), [to_nltk_tree(child, True) for child in node.children])\n",
    "        else:\n",
    "            return Tree(node.orth_, [to_nltk_tree(child) for child in node.children])\n",
    "    else:\n",
    "        if token_tagged:\n",
    "            return tok_format(node)\n",
    "        else:\n",
    "            return node.orth_\n",
    "\n",
    "def get_dependency_parser_tree(seq):\n",
    "    \"\"\"Input is a list of tokens\"\"\"\n",
    "    doc = nlp(unicode(' '.join(seq)))\n",
    "    return [to_nltk_tree(sent.root, True).pretty_print() for sent in doc.sents]\n",
    "\n",
    "#now by removing some aspects/opinions we observe the dependency trees\n",
    "get_ignore_indices = lambda filter_list, input_tag_seq: [i for i, tag in enumerate(input_tag_seq) if tag in filter_list]\n",
    "#w1 w3 w4\n",
    "def get_filtered_sentence(seq, tag_seq, filter_list= [2]):\n",
    "    ignore_indices = get_ignore_indices(filter_list, tag_seq)\n",
    "    #print(ignore_indices)\n",
    "    return [word for i, word in enumerate(seq) if i not in ignore_indices]\n",
    "\n",
    "#' '.join(get_filtered_sentence(laptop_data[0][0], laptop_data[0][1], [1,2])) #removing BA and IA words (1 and 2)\n"
   ]
  },
  {
   "cell_type": "code",
   "execution_count": 91,
   "metadata": {},
   "outputs": [
    {
     "name": "stdout",
     "output_type": "stream",
     "text": [
      "I charge it at night and skip taking the cord with me because of the good battery life\n",
      "                             charge_VBP                                                                \n",
      "   ______________________________|____________________________                                          \n",
      "  |     |      |       |                                   skip_VB                                     \n",
      "  |     |      |       |                     _________________|_______________                          \n",
      "  |     |      |       |                taking_VBG                        because_IN                   \n",
      "  |     |      |       |          __________|_________         _______________|_________                \n",
      "  |     |      |     at_IN    cord_NN              with_IN    |                      life_NN           \n",
      "  |     |      |       |         |                    |       |       __________________|________       \n",
      "I_PRP it_PRP and_CC night_NN   the_DT               me_PRP  of_IN  the_DT            good_JJ battery_NN\n",
      "\n"
     ]
    },
    {
     "data": {
      "text/plain": [
       "[None]"
      ]
     },
     "execution_count": 91,
     "metadata": {},
     "output_type": "execute_result"
    }
   ],
   "source": [
    "print ' '.join(laptop_data[0][0])\n",
    "get_dependency_parser_tree(laptop_data[0][0])"
   ]
  },
  {
   "cell_type": "code",
   "execution_count": 95,
   "metadata": {},
   "outputs": [
    {
     "name": "stdout",
     "output_type": "stream",
     "text": [
      "['I', 'charge', 'it', 'at', 'night', 'and', 'skip', 'taking', 'the', 'with', 'me', 'because', 'of', 'the', 'good']\n",
      "                    charge_VBP                                                           \n",
      "   _____________________|___________________________________                              \n",
      "  |     |      |        |                                skip_VB                         \n",
      "  |     |      |        |                  _________________|______________               \n",
      "  |     |      |        |             taking_VBG                       because_IN        \n",
      "  |     |      |        |         ________|_________                _______|_________     \n",
      "  |     |      |      at_IN      |               with_IN           |              good_JJ\n",
      "  |     |      |        |        |                  |              |                 |    \n",
      "I_PRP it_PRP and_CC  night_NN  the_DT             me_PRP         of_IN             the_DT\n",
      "\n"
     ]
    },
    {
     "data": {
      "text/plain": [
       "[None]"
      ]
     },
     "execution_count": 95,
     "metadata": {},
     "output_type": "execute_result"
    }
   ],
   "source": [
    "filtered_sentence = get_filtered_sentence(laptop_data[0][0], laptop_data[0][1], [1,2]) #removing BA and IA words (1 and 2)\n",
    "print filtered_sentence\n",
    "get_dependency_parser_tree(filtered_sentence)"
   ]
  },
  {
   "cell_type": "code",
   "execution_count": 96,
   "metadata": {},
   "outputs": [
    {
     "name": "stdout",
     "output_type": "stream",
     "text": [
      "['I', 'charge', 'it', 'at', 'night', 'and', 'skip', 'taking', 'the', 'cord', 'with', 'me', 'because', 'of', 'the', 'battery', 'life']\n",
      "                             charge_VBP                                                         \n",
      "   ______________________________|____________________________                                   \n",
      "  |     |      |       |                                   skip_VB                              \n",
      "  |     |      |       |                     _________________|________                          \n",
      "  |     |      |       |                taking_VBG                 because_IN                   \n",
      "  |     |      |       |          __________|_________         ________|_________                \n",
      "  |     |      |     at_IN    cord_NN              with_IN    |               life_NN           \n",
      "  |     |      |       |         |                    |       |         _________|________       \n",
      "I_PRP it_PRP and_CC night_NN   the_DT               me_PRP  of_IN    the_DT           battery_NN\n",
      "\n"
     ]
    },
    {
     "data": {
      "text/plain": [
       "[None]"
      ]
     },
     "execution_count": 96,
     "metadata": {},
     "output_type": "execute_result"
    }
   ],
   "source": [
    "filtered_sentence = get_filtered_sentence(laptop_data[0][0], laptop_data[0][1], [3,4]) #removing BO and IO words (1 and 2)\n",
    "print filtered_sentence\n",
    "get_dependency_parser_tree(filtered_sentence)"
   ]
  },
  {
   "cell_type": "markdown",
   "metadata": {},
   "source": [
    "#### In doing the experiment with using missing word representations, we can have many variations. \n",
    "1. Do we train the model to reproduce complete sentence? (As stated adding noise seems counterintuitive)\n",
    "2. If we use seq2seq model encoders, we could do either of the three:\n",
    "    1. Remove the word completely and use last hidden representation as the decider for type of missing word\n",
    "    2. Replace the word with an 'UNK' token and compute immediate representation at that step, compared to previous steps. \n",
    "    3. Combine 1 and 2 both \n",
    "    \n",
    "3. Let's say for a given input sentence: w1 w2 w3... wn, how do we:\n",
    "    1. Decide candidates to remove?: Need another model for this?? Or do we use a simple heuristic: all nouns, adjs and verbs\n",
    "    2. What if multiple BA IA word seq is there? Do we remove them together?\n",
    "    3. When we remove, do we use the standard seq2seq architectures, or do we use the Tree RNN type?\n",
    "    4. Given that we have detected w1 to w3 as BA..IA then how do we include this information when W6 has been detected as an opinion word. Do we get representations for all possible words at different time steps, and use their config as well in deciding the final seq labels ?\n",
    "    \n",
    "    \n",
    "#### In doing experiment with missing word FOR using historic label representative data--> do we try each characteristic word (so Hello, hi, hey--> binned into 1 cluster, similarly OP_WORDS that are similar binned into 1 cluster) and use a MODEL to detect which resulting sentence makes most sense. "
   ]
  },
  {
   "cell_type": "code",
   "execution_count": null,
   "metadata": {},
   "outputs": [],
   "source": [
    "#A simple implementation of the first model \n",
    "#Steps\n",
    "\n",
    "#1) Take a simple heuristic rule to take positive examples and negative examples for each category (BA, BA.IA, BO, BO.IO, Ot)\n",
    "# 2nd model is a simple siames\n",
    "\n"
   ]
  },
  {
   "cell_type": "code",
   "execution_count": 105,
   "metadata": {},
   "outputs": [],
   "source": [
    "'''Script to get frequencies of POS tags for opinion and aspect words'''\n",
    "from nltk import word_tokenize, pos_tag\n",
    "from nltk.data import load\n",
    "#tagdict = load('help/tagsets/upenn_tagset.pickle')\n",
    "\n",
    "examples_of_aspect_as_ADJ = []\n",
    "examples_of_opinion_as_NOUN = []\n",
    "\n",
    "\n",
    "def get_freq_pos_opinion_and_aspect(df, limit =-1):\n",
    "    '''Input is a dataframe'''\n",
    "    #bopinion_tags = {tag:0 for tag in tagdict.keys()}\n",
    "    #baspect_tags = {tag:0 for tag in tagdict.keys()}\n",
    "    #iopinion_tags = {tag:0 for tag in tagdict.keys()}\n",
    "    #iaspect_tags = {tag:0 for tag in tagdict.keys()}\n",
    "    bopinion_tags = {} \n",
    "    baspect_tags = {}\n",
    "    iopinion_tags = {} \n",
    "    iaspect_tags = {}\n",
    "    '''\n",
    "    if(limit==-1):\n",
    "        limit = len(df)\n",
    "        print_it = False\n",
    "    else:\n",
    "        limit = limit #for debugging\n",
    "        '''\n",
    "    for sentence, opinion, aspect in zip(df.Sentence, df.Opinions, df.Aspects):\n",
    "        '''\n",
    "        if(limit<=0):\n",
    "            break\n",
    "        limit-=1\n",
    "        '''\n",
    "        '''NLTK\n",
    "        #text = word_tokenize(sentence) #<-NLTK\n",
    "        #pos_tagged_text = pos_tag(text) #<-NLTK\n",
    "        '''\n",
    "        text = nlp(unicode(sentence))\n",
    "        pos_tagged_text = [(str(token), str(token.pos_)) for token in text]\n",
    "        \n",
    "        \n",
    "        for seqs in opinion.split(';'): #find all opinion terms-> can be done together with aspect terms but cleaner this way\n",
    "            for i, opinion_term in enumerate(seqs.split()):\n",
    "                for token_pos_tuple in pos_tagged_text:\n",
    "                    token, pos_tag = token_pos_tuple[0], token_pos_tuple[1]\n",
    "                    if(opinion_term == token):\n",
    "                        if(i>1):#IO\n",
    "                            if(pos_tag not in iopinion_tags):\n",
    "                                iopinion_tags[pos_tag] = 1\n",
    "                            else:\n",
    "                                iopinion_tags[pos_tag] += 1\n",
    "                        else:#BO\n",
    "                            if(pos_tag not in bopinion_tags):\n",
    "                                bopinion_tags[pos_tag] = 1\n",
    "                            else:\n",
    "                                bopinion_tags[pos_tag] += 1\n",
    "                        '''    \n",
    "                        if(limit> 0 and print_it):\n",
    "                            print(sentence, token_pos_tuple)\n",
    "                        '''\n",
    "                        if(pos_tag == \"NOUN\"):\n",
    "                            examples_of_opinion_as_NOUN.append((sentence, token_pos_tuple))\n",
    "                        \n",
    "        for seqs in aspect.split(';'): #find all aspect terms\n",
    "            for i, aspect_term in enumerate(seqs.split()):\n",
    "                for token_pos_tuple in pos_tagged_text:\n",
    "                    token, pos_tag = token_pos_tuple[0], token_pos_tuple[1]\n",
    "                    if(aspect_term == token):\n",
    "                        if(i>1):#IA\n",
    "                            if(pos_tag not in iaspect_tags):\n",
    "                                iaspect_tags[pos_tag] = 1\n",
    "                            else:\n",
    "                                iaspect_tags[pos_tag] += 1\n",
    "                        else:#BA\n",
    "                            if(pos_tag not in baspect_tags):\n",
    "                                baspect_tags[pos_tag] = 1\n",
    "                            else:\n",
    "                                baspect_tags[pos_tag] += 1\n",
    "                       \n",
    "                        if(pos_tag == 'ADJ'):\n",
    "                            examples_of_aspect_as_ADJ.append((sentence, token_pos_tuple))\n",
    "    return bopinion_tags, iopinion_tags, baspect_tags, iaspect_tags\n",
    "\n",
    "#laptop_df = pd.read_csv(\"./Final_data/Semeval_14_ver1/Combined_laptop.csv\")\n",
    "#laptop_freq_dicts = get_freq_pos_opinion_and_aspect(laptop_df)\n",
    "\n",
    "rest_df = pd.read_csv(\"./Final_data/Semeval_14_ver1/Combined_restaurant.csv\")\n",
    "rest_freq_dicts = get_freq_pos_opinion_and_aspect(rest_df)"
   ]
  },
  {
   "cell_type": "code",
   "execution_count": 108,
   "metadata": {},
   "outputs": [
    {
     "data": {
      "text/plain": [
       "(({'ADJ': 1507,\n",
       "   'ADP': 49,\n",
       "   'ADV': 372,\n",
       "   'CCONJ': 3,\n",
       "   'DET': 36,\n",
       "   'INTJ': 1,\n",
       "   'NOUN': 256,\n",
       "   'NUM': 4,\n",
       "   'PART': 26,\n",
       "   'PROPN': 1,\n",
       "   'VERB': 477},\n",
       "  {'ADJ': 28,\n",
       "   'ADP': 12,\n",
       "   'ADV': 23,\n",
       "   'CCONJ': 2,\n",
       "   'DET': 13,\n",
       "   'NOUN': 18,\n",
       "   'PART': 6,\n",
       "   'PRON': 1,\n",
       "   'VERB': 16},\n",
       "  {'ADJ': 183,\n",
       "   'ADP': 36,\n",
       "   'ADV': 1,\n",
       "   'CCONJ': 5,\n",
       "   'DET': 11,\n",
       "   'NOUN': 2395,\n",
       "   'NUM': 68,\n",
       "   'PART': 26,\n",
       "   'PRON': 4,\n",
       "   'PROPN': 464,\n",
       "   'VERB': 262},\n",
       "  {'ADJ': 7,\n",
       "   'ADP': 15,\n",
       "   'ADV': 1,\n",
       "   'CCONJ': 1,\n",
       "   'DET': 25,\n",
       "   'NOUN': 196,\n",
       "   'NUM': 4,\n",
       "   'PART': 1,\n",
       "   'PROPN': 37,\n",
       "   'VERB': 6}),\n",
       " ({'ADJ': 2665,\n",
       "   'ADP': 39,\n",
       "   'ADV': 195,\n",
       "   'CCONJ': 1,\n",
       "   'DET': 3,\n",
       "   'INTJ': 2,\n",
       "   'NOUN': 137,\n",
       "   'NUM': 2,\n",
       "   'PART': 9,\n",
       "   'PROPN': 2,\n",
       "   'VERB': 418},\n",
       "  {'ADJ': 1, 'DET': 6, 'NOUN': 9},\n",
       "  {'ADJ': 288,\n",
       "   'ADP': 110,\n",
       "   'ADV': 5,\n",
       "   'CCONJ': 20,\n",
       "   'DET': 12,\n",
       "   'NOUN': 3933,\n",
       "   'NUM': 3,\n",
       "   'PART': 3,\n",
       "   'PRON': 1,\n",
       "   'PROPN': 257,\n",
       "   'VERB': 155,\n",
       "   'X': 3},\n",
       "  {'ADJ': 37,\n",
       "   'ADP': 51,\n",
       "   'ADV': 2,\n",
       "   'CCONJ': 38,\n",
       "   'DET': 33,\n",
       "   'NOUN': 346,\n",
       "   'PART': 1,\n",
       "   'PRON': 1,\n",
       "   'PROPN': 44,\n",
       "   'VERB': 24}))"
      ]
     },
     "execution_count": 108,
     "metadata": {},
     "output_type": "execute_result"
    }
   ],
   "source": [
    "laptop_freq_dicts, rest_freq_dicts"
   ]
  },
  {
   "cell_type": "code",
   "execution_count": 106,
   "metadata": {},
   "outputs": [],
   "source": [
    "#with open(\"laptop_freq_tags.pickle\",'wb') as pickle_o:\n",
    " #   pickle.dump(laptop_freq_dicts, pickle_o)\n",
    "\n",
    "with open(\"rest_freq_tags.pickle\",'wb') as pickle_o:\n",
    "    pickle.dump(rest_freq_dicts, pickle_o)"
   ]
  },
  {
   "cell_type": "markdown",
   "metadata": {},
   "source": [
    "## 1) Training an autoencoder for sentences. (We then freeze the best working model for later use in missing words)\n",
    "\n",
    "##### All experiments until the next section (missing words) is with regards to training the autoencoder"
   ]
  },
  {
   "cell_type": "code",
   "execution_count": 310,
   "metadata": {},
   "outputs": [],
   "source": [
    "'''Autoencoder for sentences (Encoder-decoder network)'''\n",
    "import torch \n",
    "import torch.nn as nn \n",
    "from torch.autograd import Variable\n",
    "from torch import optim \n",
    "import torch.nn.functional as F\n",
    "import time\n",
    "use_cuda = torch.cuda.is_available() \n"
   ]
  },
  {
   "cell_type": "code",
   "execution_count": 116,
   "metadata": {},
   "outputs": [],
   "source": []
  },
  {
   "cell_type": "code",
   "execution_count": 120,
   "metadata": {},
   "outputs": [],
   "source": [
    "'''\n",
    "class Encoder_BiLSTM(nn.Module):\n",
    "    def __init__(self, input_size, hidden_size, embedding_dim):\n",
    "        super(Encoder_BiLSTM, self).__init__()\n",
    "        self.hidden_size = hidden_size\n",
    "        self.embedding = nn.Embedding(input_size, embedding_dim)\n",
    "        self.lstm = nn.LSTM(embedding_dim, hidden_dim//2, bidirectional = True) #hidden dim//2 cause it's a bilstm (automatically concats across 1st axis)\n",
    "        self.hidden = \n",
    "        \n",
    "    def init_hidden(self):\n",
    "        return (autograd.Variable(torch.randn(2, 1, self.hidden_dim//2)), autograd.Variable(torch.randn(2,1, self.hidden_dim//2)))\n",
    "    \n",
    "    def forward(self, input_seq, hidden):\n",
    "        inputs =\n",
    "'''\n",
    "\n",
    "class Encoder_GRU(nn.Module):\n",
    "    def __init__(self, input_domain_size, hidden_dims, embedding_dims):\n",
    "        super(Encoder_GRU, self).__init__()\n",
    "        self.hidden_dims = hidden_dims\n",
    "        self.embedding = nn.Embedding(input_domain_size, embedding_dims)\n",
    "        self.gru = nn.GRU(embedding_dims, hidden_dims)\n",
    "        \n",
    "    def init_hidden(self):\n",
    "        '''Get the first hidden state'''\n",
    "        #hidden_var =  (autograd.Variable(torch.randn(1, 1, self.hidden_dims)))\n",
    "        hidden_var = autograd.Variable(torch.zeros(1, 1, self.hidden_dims)) #makes more sense to be 0 for all? Why would randomness across different inputs help?\n",
    "        if(use_cuda):\n",
    "            return hidden_var.cuda()\n",
    "        else:\n",
    "            return hidden_var\n",
    "        \n",
    "    def forward(self, input_at_current_time_step, hidden):\n",
    "        '''Expected input is of shape 1*dims'''\n",
    "        embedded_input_seq = self.embedding(input_at_current_time_step).view(1,1,-1) #turn into RNN format [seq_length, minibatch_size, dimensions]\n",
    "        output, hidden = self.gru(embedded_input_seq, hidden)\n",
    "        return output, hidden"
   ]
  },
  {
   "cell_type": "code",
   "execution_count": 131,
   "metadata": {},
   "outputs": [
    {
     "data": {
      "text/plain": [
       "(Variable containing:\n",
       " (0 ,.,.) = \n",
       " \n",
       " Columns 0 to 8 \n",
       "   -0.1974 -0.1651 -0.9147  0.1910  0.3405 -0.3563 -0.2201 -1.0113 -0.0554\n",
       "   0.1818 -0.4475 -0.6147  0.2137  0.0647 -0.1596  0.0854 -0.7033  0.2317\n",
       " \n",
       " Columns 9 to 17 \n",
       "   -0.4947 -0.0384  1.1197  0.8617  0.3314 -1.2945  0.9028 -0.3218  0.2886\n",
       "  -0.4561 -0.3142  0.6201  0.8399 -0.4561 -1.1851  0.8763 -0.2072  0.2388\n",
       " \n",
       " Columns 18 to 19 \n",
       "   -1.3726  0.0206\n",
       "  -2.0035  0.0742\n",
       " [torch.FloatTensor of size 1x2x20], Variable containing:\n",
       " (0 ,.,.) = \n",
       " \n",
       " Columns 0 to 8 \n",
       "   -0.1974 -0.1651 -0.9147  0.1910  0.3405 -0.3563 -0.2201 -1.0113 -0.0554\n",
       "   0.1818 -0.4475 -0.6147  0.2137  0.0647 -0.1596  0.0854 -0.7033  0.2317\n",
       " \n",
       " Columns 9 to 17 \n",
       "   -0.4947 -0.0384  1.1197  0.8617  0.3314 -1.2945  0.9028 -0.3218  0.2886\n",
       "  -0.4561 -0.3142  0.6201  0.8399 -0.4561 -1.1851  0.8763 -0.2072  0.2388\n",
       " \n",
       " Columns 18 to 19 \n",
       "   -1.3726  0.0206\n",
       "  -2.0035  0.0742\n",
       " [torch.FloatTensor of size 1x2x20])"
      ]
     },
     "execution_count": 131,
     "metadata": {},
     "output_type": "execute_result"
    }
   ],
   "source": [
    "rnn = nn.GRU(10, 20, 1) #10 dim input mapped to 20dim input at each step with just 1 layer\n",
    "ex_data = autograd.Variable(torch.randn(2,2,10))\n",
    "rnn_hidden = autograd.Variable(torch.randn(2,1,20)) #first axis is for number of layers\n",
    "rnn_out, rnn_h = rnn(ex_data, rnn_hidden)\n",
    "rnn_out, rnn_h"
   ]
  },
  {
   "cell_type": "code",
   "execution_count": 265,
   "metadata": {},
   "outputs": [],
   "source": [
    "class Decoder_GRU(nn.Module):\n",
    "    def __init__(self, output_domain_size, hidden_dims, embedding_dims): \n",
    "        #output size in this case remains same as input_size (since we're reproducing in the same domain)\n",
    "        super(Decoder_GRU, self).__init__()\n",
    "        self.hidden_dims = hidden_dims\n",
    "        self.embedding = nn.Embedding(output_domain_size, embedding_dims)\n",
    "        self.gru = nn.GRU(embedding_dims, hidden_dims)\n",
    "        self.out = nn.Linear(hidden_dims, output_domain_size)\n",
    "        self.softmax = nn.LogSoftmax(dim = 1) #dim is 1 (column), since output of linear is of shape batch=1* output_vocab\n",
    "    \n",
    "    def init_hidden(self):\n",
    "        #hidden_var =  (autograd.Variable(torch.randn(1, 1, self.hidden_dims)))\n",
    "        hidden_var = autograd.Variable(torch.zeros(1, 1, self.hidden_dims))\n",
    "        if(use_cuda):\n",
    "            return hidden_var.cuda()\n",
    "        else:\n",
    "            return hidden_var\n",
    "        \n",
    "    def forward(self, input_at_time_step, hidden):\n",
    "        embedded_input = self.embedding(input_at_time_step).view(1,1,-1)\n",
    "        relud_embedding = F.relu(embedded_input) #just cause it works for others\n",
    "        output_at_time_step, hidden = self.gru(relud_embedding, hidden) #in the current case where we loop through each time step, the output is the same as the hidden state\n",
    "        softmaxed_prediction = self.softmax(self.out(output_at_time_step[0])) #index output_time_step by row to get shape 1*hidden_dims\n",
    "        return softmaxed_prediction, hidden"
   ]
  },
  {
   "cell_type": "code",
   "execution_count": null,
   "metadata": {},
   "outputs": [],
   "source": []
  },
  {
   "cell_type": "code",
   "execution_count": 258,
   "metadata": {},
   "outputs": [
    {
     "name": "stderr",
     "output_type": "stream",
     "text": [
      "/usr/local/lib/python2.7/dist-packages/ipykernel_launcher.py:2: UserWarning: Implicit dimension choice for log_softmax has been deprecated. Change the call to include dim=X as an argument.\n",
      "  \n",
      "/usr/local/lib/python2.7/dist-packages/ipykernel_launcher.py:2: UserWarning: Implicit dimension choice for softmax has been deprecated. Change the call to include dim=X as an argument.\n",
      "  \n"
     ]
    },
    {
     "data": {
      "text/plain": [
       "(Variable containing:\n",
       " -0.3999\n",
       " -1.1099\n",
       " [torch.FloatTensor of size 2], Variable containing:\n",
       "  0.6704\n",
       "  0.3296\n",
       " [torch.FloatTensor of size 2])"
      ]
     },
     "execution_count": 258,
     "metadata": {},
     "output_type": "execute_result"
    }
   ],
   "source": [
    "var = autograd.Variable(torch.FloatTensor([2.71,2]))\n",
    "F.log_softmax(var), F.softmax(var)"
   ]
  },
  {
   "cell_type": "code",
   "execution_count": 303,
   "metadata": {},
   "outputs": [],
   "source": [
    "\n",
    "'''Training model for each sequence function. This is a subsidiary of the training function'''\n",
    "def train_model(input_seq_variable, output_seq_variable, encoder, decoder, encoder_optimizer, decoder_optimizer, cost_func, start_token, end_token, max_length = 30, teacher_forcing_ratio = 0.4):\n",
    "    #.....................................................\n",
    "    #This function trains the encoder and decoder architecture jointly to reproduce input and output sequences\n",
    "    #High level overview:\n",
    "    #1) With step by step encoder, get the hidden state at each time step\n",
    "    #2) Use last step hidden rep, any relevant step (ex:missing variable) hidden rep or attention based cumulation to pass as decoder initial hidden step\n",
    "    #3) Now decode using hidden info and other ways to include encoding info (IF REQUIRED). Use softmax and top 1 prediction to get output distribution\n",
    "    #4) Calculate cost (in this case should be negative log likelihood)\n",
    "    #5) Backpropate through loss\n",
    "    #6) Update variables based on optimizer\n",
    "    #......................................................\n",
    "    \n",
    "    #1.1) initialize encoder hidden state\n",
    "    encoder_hidden = encoder.init_hidden()\n",
    "    \n",
    "    encoder_optimizer.zero_grad()\n",
    "    decoder_optimizer.zero_grad() #Reset accumulated gradients from previous batch\n",
    "    loss = 0\n",
    "    \n",
    "    input_length = input_seq_variable.size()[0]\n",
    "    output_length = output_seq_variable.size()[0]\n",
    "    \n",
    "    \n",
    "    '''We do not for this model need encoder_outputs since attention is not used and we do not make use of historic encoder outputs'''\n",
    "    #encoder_outputs = autograd.Variable(torch.zeros(max_length, encoder.hidden_dims)) #store encoder hidden states for later use\n",
    "    #encoder_outputs = encoder_outputs.cuda() if use_cuda else encoder_outputs\n",
    "    \n",
    "    \n",
    "    \n",
    "    #1.2) Get encoded representations \n",
    "    for encoder_time_step in range(input_length):\n",
    "        encoder_output, encoder_hidden = encoder(input_seq_variable[encoder_time_step], encoder_hidden) \n",
    "        #encoder_outputs[encoder_time_step] = encoder_output[0][0] #store encoder hidden state (output in this case since we're looping individually)\n",
    "        \n",
    "        \n",
    "    #2.1) for the decoder, we have to add the start token \n",
    "    decoder_input = autograd.Variable(torch.LongTensor([[start_token]]))\n",
    "    decoder_input = decoder_input.cuda() if use_cuda else decoder_input\n",
    "    \n",
    "    #2.2) Initialize hidden state for decoder\n",
    "    decoder_hidden = encoder_hidden #encoder_outputs[-1]<- this won't be true in case we don't loop so avoid\n",
    "    \n",
    "    use_teacher_forcing = True if random.random()< teacher_forcing_ratio else False\n",
    "    \n",
    "    #3) Run decoder and optimize to reproduce input\n",
    "    \n",
    "    if(use_teacher_forcing):\n",
    "        for decoder_time_step in range(output_length):\n",
    "            decoder_output, decoder_hidden = decoder(decoder_input, decoder_hidden) #replace with other variants later\n",
    "            loss+= cost_func(decoder_output, output_seq_variable[decoder_time_step]) #adding loss for this sequence\n",
    "            decoder_input = output_seq_variable[decoder_time_step]\n",
    "    \n",
    "    else:\n",
    "        for decoder_time_step in range(output_length):\n",
    "            decoder_output, decoder_hidden = decoder(decoder_input, decoder_hidden)\n",
    "            top_prob, top_index = decoder_output.data.topk(1)\n",
    "            next_input_id = top_index[0][0] #use this index as input from vocab\n",
    "            \n",
    "            decoder_input = autograd.Variable(torch.LongTensor([next_input_id]))\n",
    "            decoder_input = decoder_input.cuda() if use_cuda else decoder_input\n",
    "            \n",
    "            loss+= cost_func(decoder_output, output_seq_variable[decoder_time_step])\n",
    "            if(next_input_id == end_token):\n",
    "                '''should outputting an EOS when it is not be heavily punished by loss function? \n",
    "                However, that may lead to future longer sentences (as short sentences are punished).\n",
    "                Regardless, how can we implement that'''\n",
    "                break\n",
    "           \n",
    "        \n",
    "    #Optimize variables based on loss\n",
    "    loss.backward()\n",
    "    \n",
    "    encoder_optimizer.step()\n",
    "    decoder_optimizer.step()\n",
    "    \n",
    "    return loss.data[0]/output_length #return average loss across output sequence"
   ]
  },
  {
   "cell_type": "code",
   "execution_count": null,
   "metadata": {},
   "outputs": [],
   "source": []
  },
  {
   "cell_type": "code",
   "execution_count": 304,
   "metadata": {},
   "outputs": [],
   "source": [
    "#Prepare training files: input--> output (where output is the same)\n",
    "\n",
    "'''Training the simple encoder-decoder'''\n",
    "def form_indexed_sequence_variable(sequence, word_to_id, end_token):\n",
    "    #Input sequence is a list of word tokens\n",
    "    #Output sequence is a list of id tokens based on provided word to id mapping\n",
    "    input_seq = [word_to_id[token] for token in sequence] + [end_token]\n",
    "    input_seq_var = autograd.Variable(torch.LongTensor(input_seq)).view(-1,1) #make a 2 rank tensor\n",
    "    if(use_cuda):\n",
    "        return input_seq_var.cuda()\n",
    "    else:\n",
    "        return input_seq_var\n",
    "    \n",
    "def generate_training_sequence(training_dataset, word_to_id, end_token):\n",
    "    '''Generator function to yield training example \n",
    "    Not very useful in this case but for large datasets it can save memory if we pass the dataset by reference.\n",
    "    Use hpy (guppy for py2) to explore memory usage in the heap\n",
    "    '''\n",
    "    random.shuffle(training_dataset) \n",
    "    for training_example in training_dataset:\n",
    "        yield(form_indexed_sequence_variable(training_example[0], word_to_id, end_token), form_indexed_sequence_variable(training_example[1], word_to_id, end_token))\n",
    "    \n",
    "#Load relevant data for training\n",
    "def get_dataset_info(file_name = \"laptop\", training_data_additional = False, get_inverse = False):\n",
    "    if(training_data_additional):\n",
    "        training_data = pickle.load(open(\"{}_final_additional_training_list.pickle\".format(file_name)))\n",
    "    else:\n",
    "        training_data = pickle.load(open(\"{}_final_normal_training_list.pickle\".format(file_name)))\n",
    "        \n",
    "    tag2id = pickle.load(open(\"{}_final_tag2id.pickle\".format(file_name)))\n",
    "    \n",
    "    vocab2id = pickle.load(open(\"{}_final_vocab.pickle\".format(file_name)))\n",
    "    \n",
    "    start_token = vocab2id[\"<START>\"] = len(vocab2id)\n",
    "    end_token = vocab2id[\"<END>\"] = len(vocab2id)\n",
    "    \n",
    "    if(not get_inverse):\n",
    "        return training_data, tag2id, vocab2id, start_token, end_token\n",
    "    else:\n",
    "        id2vocab = {id_:token for token, id_ in vocab2id.items()}\n",
    "        id2tag = {id_:tag for tag, id_ in tag2id.items()}\n",
    "        \n",
    "        return training_data, tag2id, vocab2id, start_token, end_token, id2vocab, id2tag\n",
    "\n"
   ]
  },
  {
   "cell_type": "code",
   "execution_count": 311,
   "metadata": {},
   "outputs": [],
   "source": [
    "laptop_data, tag2id, laptop_vocab2id, start_token, end_token = get_dataset_info()\n",
    "vocab_len = len(laptop_vocab2id)\n",
    "num_total_examples = len(laptop_data)\n",
    "\n",
    "\n",
    "\n",
    "\n",
    "'''The below is for training an autoencoder model'''\n",
    "training_first_index = 0\n",
    "training_last_index = int(num_total_examples*0.7)\n",
    "testing_first_index = training_last_index + 1\n",
    "\n",
    "tokenized_sentences_list = map(lambda x: x[0], laptop_data)\n",
    "dataset_for_autoencoding = [(tokenized_sentence, tokenized_sentence) for tokenized_sentence in tokenized_sentences_list]\n",
    "training_data = dataset_for_autoencoding[:training_last_index+1] \n",
    "testing_data = dataset_for_autoencoding[testing_first_index:] \n",
    "assert len(training_data) + len(testing_data)  == len(dataset_for_autoencoding) #Sanity check\n"
   ]
  },
  {
   "cell_type": "code",
   "execution_count": 318,
   "metadata": {},
   "outputs": [],
   "source": [
    "'''Training script'''\n",
    "\n",
    "'''Training function\n",
    "Note: We use stochastic optimization (variables are updated after each iteration in a given epoch)\n",
    "'''    \n",
    "def trainIters(encoder, decoder, n_epochs, enc_learning_rate, dec_learning_rate, enc_optimizer, dec_optimizer, loss_function, start_token, end_token):\n",
    "    \n",
    "    encoder_optimizer = enc_optimizer(encoder.parameters(), lr = enc_learning_rate)\n",
    "    decoder_optimizer = dec_optimizer(decoder.parameters(), lr = dec_learning_rate)\n",
    "    \n",
    "    loss_function = loss_function\n",
    "    #\n",
    "    for epoch in range(n_epochs):\n",
    "        t1 = time.time()\n",
    "        training_gen = generate_training_sequence(training_data, laptop_vocab2id, end_token)\n",
    "        loss = 0\n",
    "        iters = 0\n",
    "        for input_seq, target_seq in training_gen:\n",
    "            loss = train_model(input_seq, target_seq, encoder, decoder, encoder_optimizer, decoder_optimizer, loss_function, start_token, end_token)\n",
    "            if(iters%100==0):\n",
    "                tm = time.time()\n",
    "                print(\"At iteration {}, time taken: {}\".format(iters, tm-t1))\n",
    "            iters+=1\n",
    "        print(\"Loss for epoch: {}\".format(loss/n_epochs))\n",
    "        t2 = time.time()\n",
    "        print(\"time for epoch: {}\".format(t2-t1))\n",
    "#form_indexed_sequence_variable(laptop_data[0][0], laptop_vocab2id, end_token)"
   ]
  },
  {
   "cell_type": "code",
   "execution_count": 319,
   "metadata": {},
   "outputs": [],
   "source": [
    "        \n",
    "'''Model and hyperparameters'''\n",
    "encoder_hidden_dims = 100\n",
    "encoder_embedding_dims = 200\n",
    "encoder1 = Encoder_GRU(vocab_len, encoder_hidden_dims, encoder_embedding_dims)\n",
    "enc_learning_rate = 0.01\n",
    "enc_optimizer = optim.SGD\n",
    "\n",
    "decoder_hidden_dims = 100\n",
    "decoder_embedding_dims = 200\n",
    "decoder1 = Decoder_GRU(vocab_len, decoder_hidden_dims, decoder_embedding_dims)\n",
    "dec_learning_rate = 0.01\n",
    "dec_optimizer = optim.SGD\n",
    "\n",
    "loss_function = nn.NLLLoss()\n",
    "\n",
    "if(use_cuda):\n",
    "    encoder1 = encoder1.cuda()\n",
    "    decoder1 = decoder1.cuda()\n",
    "    \n",
    "\n",
    "    \n"
   ]
  },
  {
   "cell_type": "code",
   "execution_count": 320,
   "metadata": {},
   "outputs": [
    {
     "name": "stdout",
     "output_type": "stream",
     "text": [
      "At iteration 0, time taken: 0.825685977936\n",
      "At iteration 100, time taken: 36.9158349037\n",
      "At iteration 200, time taken: 74.0581078529\n",
      "At iteration 300, time taken: 111.276453972\n",
      "At iteration 400, time taken: 145.793012857\n",
      "At iteration 500, time taken: 185.264148951\n",
      "At iteration 600, time taken: 222.289161921\n",
      "At iteration 700, time taken: 265.735514879\n",
      "At iteration 800, time taken: 303.554316044\n",
      "At iteration 900, time taken: 339.064324856\n",
      "At iteration 1000, time taken: 376.476696968\n",
      "At iteration 1100, time taken: 419.90086484\n",
      "At iteration 1200, time taken: 457.035609007\n",
      "At iteration 1300, time taken: 492.927362919\n",
      "At iteration 1400, time taken: 526.255668879\n",
      "At iteration 1500, time taken: 560.427060843\n",
      "At iteration 1600, time taken: 597.052352905\n",
      "At iteration 1700, time taken: 635.904232979\n",
      "At iteration 1800, time taken: 679.796478987\n",
      "At iteration 1900, time taken: 718.317055941\n",
      "At iteration 2000, time taken: 754.710429907\n",
      "At iteration 2100, time taken: 789.040194988\n",
      "Loss for epoch: 0.703025182088\n",
      "time for epoch: 799.367578983\n",
      "At iteration 0, time taken: 0.409627914429\n",
      "At iteration 100, time taken: 35.5766348839\n",
      "At iteration 200, time taken: 77.2452409267\n",
      "At iteration 300, time taken: 113.649899006\n",
      "At iteration 400, time taken: 150.567864895\n",
      "At iteration 500, time taken: 191.510900974\n",
      "At iteration 600, time taken: 231.504755974\n",
      "At iteration 700, time taken: 265.537622929\n",
      "At iteration 800, time taken: 301.543515921\n",
      "At iteration 900, time taken: 340.710690975\n",
      "At iteration 1000, time taken: 373.817487001\n",
      "At iteration 1100, time taken: 407.899318933\n",
      "At iteration 1200, time taken: 443.976122856\n",
      "At iteration 1300, time taken: 487.661619902\n",
      "At iteration 1400, time taken: 525.071129084\n",
      "At iteration 1500, time taken: 562.692669868\n",
      "At iteration 1600, time taken: 601.638851881\n",
      "At iteration 1700, time taken: 645.268902063\n",
      "At iteration 1800, time taken: 682.146326065\n",
      "At iteration 1900, time taken: 718.065455914\n",
      "At iteration 2000, time taken: 752.909312963\n",
      "At iteration 2100, time taken: 787.111398935\n",
      "Loss for epoch: 0.607663249969\n",
      "time for epoch: 799.30470705\n",
      "At iteration 0, time taken: 0.191737890244\n",
      "At iteration 100, time taken: 37.4317550659\n",
      "At iteration 200, time taken: 76.675976038\n",
      "At iteration 300, time taken: 115.588794947\n",
      "At iteration 400, time taken: 153.363393068\n",
      "At iteration 500, time taken: 185.08248806\n",
      "At iteration 600, time taken: 224.569500923\n",
      "At iteration 700, time taken: 262.526474953\n",
      "At iteration 800, time taken: 305.128520012\n",
      "At iteration 900, time taken: 342.334979057\n",
      "At iteration 1000, time taken: 379.349529982\n",
      "At iteration 1100, time taken: 418.246948957\n",
      "At iteration 1200, time taken: 454.418128014\n",
      "At iteration 1300, time taken: 489.829134941\n",
      "At iteration 1400, time taken: 525.560275078\n",
      "At iteration 1500, time taken: 566.105257988\n",
      "At iteration 1600, time taken: 604.273952961\n",
      "At iteration 1700, time taken: 644.37725091\n",
      "At iteration 1800, time taken: 681.49007988\n",
      "At iteration 1900, time taken: 717.205548048\n",
      "At iteration 2000, time taken: 756.443075895\n",
      "At iteration 2100, time taken: 796.899381876\n",
      "Loss for epoch: 0.631616532175\n",
      "time for epoch: 811.173879862\n",
      "At iteration 0, time taken: 0.186886072159\n",
      "At iteration 100, time taken: 37.5998749733\n",
      "At iteration 200, time taken: 78.6453859806\n",
      "At iteration 300, time taken: 120.388208151\n",
      "At iteration 400, time taken: 158.441737175\n",
      "At iteration 500, time taken: 200.150509119\n",
      "At iteration 600, time taken: 241.232731104\n",
      "At iteration 700, time taken: 281.056267023\n",
      "At iteration 800, time taken: 316.202348948\n",
      "At iteration 900, time taken: 354.787485123\n",
      "At iteration 1000, time taken: 391.589755058\n",
      "At iteration 1100, time taken: 436.174646139\n",
      "At iteration 1200, time taken: 472.453263998\n",
      "At iteration 1300, time taken: 508.572703123\n",
      "At iteration 1400, time taken: 543.079588175\n",
      "At iteration 1500, time taken: 581.658885002\n",
      "At iteration 1600, time taken: 622.179013968\n",
      "At iteration 1700, time taken: 659.778061152\n",
      "At iteration 1800, time taken: 694.508674145\n",
      "At iteration 1900, time taken: 734.040972948\n",
      "At iteration 2000, time taken: 773.068211079\n",
      "At iteration 2100, time taken: 811.291610956\n",
      "Loss for epoch: 0.37720229409\n",
      "time for epoch: 825.003545046\n",
      "At iteration 0, time taken: 0.519861936569\n",
      "At iteration 100, time taken: 38.2775690556\n",
      "At iteration 200, time taken: 77.3143570423\n",
      "At iteration 300, time taken: 116.161767006\n",
      "At iteration 400, time taken: 154.002083063\n",
      "At iteration 500, time taken: 196.918672085\n",
      "At iteration 600, time taken: 239.104248047\n",
      "At iteration 700, time taken: 283.097075939\n",
      "At iteration 800, time taken: 321.946088076\n",
      "At iteration 900, time taken: 357.084747076\n",
      "At iteration 1000, time taken: 396.668357134\n",
      "At iteration 1100, time taken: 435.240046024\n",
      "At iteration 1200, time taken: 475.421730995\n",
      "At iteration 1300, time taken: 517.024194956\n",
      "At iteration 1400, time taken: 554.754204988\n",
      "At iteration 1500, time taken: 591.565026999\n",
      "At iteration 1600, time taken: 630.030369043\n",
      "At iteration 1700, time taken: 672.739535093\n",
      "At iteration 1800, time taken: 711.129542112\n",
      "At iteration 1900, time taken: 750.603923082\n",
      "At iteration 2000, time taken: 789.828254938\n",
      "At iteration 2100, time taken: 829.271090984\n",
      "Loss for epoch: 0.57883026123\n",
      "time for epoch: 846.078346968\n",
      "At iteration 0, time taken: 0.499794960022\n",
      "At iteration 100, time taken: 41.4017119408\n",
      "At iteration 200, time taken: 80.4000840187\n",
      "At iteration 300, time taken: 128.032727003\n",
      "At iteration 400, time taken: 168.160511971\n",
      "At iteration 500, time taken: 208.275180101\n",
      "At iteration 600, time taken: 247.056499004\n",
      "At iteration 700, time taken: 288.600048065\n",
      "At iteration 800, time taken: 332.123076916\n",
      "At iteration 900, time taken: 372.715416908\n",
      "At iteration 1000, time taken: 414.268800974\n",
      "At iteration 1100, time taken: 451.822824001\n",
      "At iteration 1200, time taken: 496.640898943\n",
      "At iteration 1300, time taken: 539.953546047\n",
      "At iteration 1400, time taken: 581.871125937\n",
      "At iteration 1500, time taken: 626.380890131\n",
      "At iteration 1600, time taken: 665.897876978\n",
      "At iteration 1700, time taken: 710.141433954\n",
      "At iteration 1800, time taken: 751.547420979\n",
      "At iteration 1900, time taken: 791.31980896\n",
      "At iteration 2000, time taken: 832.518965006\n",
      "At iteration 2100, time taken: 868.882740021\n",
      "Loss for epoch: 0.391481679281\n",
      "time for epoch: 882.937873125\n",
      "At iteration 0, time taken: 0.883297920227\n",
      "At iteration 100, time taken: 37.9396519661\n",
      "At iteration 200, time taken: 79.9903688431\n",
      "At iteration 300, time taken: 121.632509947\n",
      "At iteration 400, time taken: 163.727020025\n",
      "At iteration 500, time taken: 203.297758818\n",
      "At iteration 600, time taken: 247.137316942\n",
      "At iteration 700, time taken: 283.590364933\n",
      "At iteration 800, time taken: 322.682468891\n",
      "At iteration 900, time taken: 363.358016014\n",
      "At iteration 1000, time taken: 406.056627989\n",
      "At iteration 1100, time taken: 446.530508995\n",
      "At iteration 1200, time taken: 491.886715889\n",
      "At iteration 1300, time taken: 531.961424828\n",
      "At iteration 1400, time taken: 570.094389915\n",
      "At iteration 1500, time taken: 611.561499834\n",
      "At iteration 1600, time taken: 656.095005989\n",
      "At iteration 1700, time taken: 698.433552027\n",
      "At iteration 1800, time taken: 745.907388926\n",
      "At iteration 1900, time taken: 788.281111002\n",
      "At iteration 2000, time taken: 835.387359858\n",
      "At iteration 2100, time taken: 879.264684916\n",
      "Loss for epoch: 0.480848264694\n",
      "time for epoch: 893.658205986\n",
      "At iteration 0, time taken: 0.136670827866\n",
      "At iteration 100, time taken: 39.4402840137\n",
      "At iteration 200, time taken: 82.7800400257\n",
      "At iteration 300, time taken: 129.558883905\n",
      "At iteration 400, time taken: 169.536777973\n",
      "At iteration 500, time taken: 215.046174049\n",
      "At iteration 600, time taken: 259.475630999\n",
      "At iteration 700, time taken: 305.600409985\n",
      "At iteration 800, time taken: 347.118098974\n",
      "At iteration 900, time taken: 389.59717083\n",
      "At iteration 1000, time taken: 432.200067043\n",
      "At iteration 1100, time taken: 474.463106871\n",
      "At iteration 1200, time taken: 513.115078926\n",
      "At iteration 1300, time taken: 554.119330883\n",
      "At iteration 1400, time taken: 595.024231911\n",
      "At iteration 1500, time taken: 634.02122283\n",
      "At iteration 1600, time taken: 682.43274188\n",
      "At iteration 1700, time taken: 725.040139914\n",
      "At iteration 1800, time taken: 766.789103031\n",
      "At iteration 1900, time taken: 808.321223974\n",
      "At iteration 2000, time taken: 852.636493921\n"
     ]
    },
    {
     "name": "stdout",
     "output_type": "stream",
     "text": [
      "At iteration 2100, time taken: 893.213713884\n",
      "Loss for epoch: 0.455434004466\n",
      "time for epoch: 908.527047873\n",
      "At iteration 0, time taken: 0.677958011627\n",
      "At iteration 100, time taken: 43.8815569878\n",
      "At iteration 200, time taken: 87.5240831375\n",
      "At iteration 300, time taken: 133.996919155\n",
      "At iteration 400, time taken: 176.343541145\n",
      "At iteration 500, time taken: 223.294916153\n",
      "At iteration 600, time taken: 264.323829174\n",
      "At iteration 700, time taken: 305.217867136\n",
      "At iteration 800, time taken: 350.824162006\n",
      "At iteration 900, time taken: 389.210464001\n",
      "At iteration 1000, time taken: 431.701886177\n",
      "At iteration 1100, time taken: 476.133840084\n",
      "At iteration 1200, time taken: 518.828183174\n",
      "At iteration 1300, time taken: 564.592960119\n",
      "At iteration 1400, time taken: 608.342338085\n",
      "At iteration 1500, time taken: 653.94812417\n",
      "At iteration 1600, time taken: 698.042057037\n",
      "At iteration 1700, time taken: 743.859929085\n",
      "At iteration 1800, time taken: 784.289711952\n",
      "At iteration 1900, time taken: 824.272310019\n",
      "At iteration 2000, time taken: 868.165516138\n",
      "At iteration 2100, time taken: 908.897653103\n",
      "Loss for epoch: 0.277133789062\n",
      "time for epoch: 924.929641962\n",
      "At iteration 0, time taken: 0.387945890427\n",
      "At iteration 100, time taken: 42.6660778522\n",
      "At iteration 200, time taken: 87.0844318867\n",
      "At iteration 300, time taken: 126.947577\n",
      "At iteration 400, time taken: 166.940955877\n",
      "At iteration 500, time taken: 204.779728889\n",
      "At iteration 600, time taken: 247.799356937\n",
      "At iteration 700, time taken: 289.621047974\n",
      "At iteration 800, time taken: 326.713440895\n",
      "At iteration 900, time taken: 371.917011976\n",
      "At iteration 1000, time taken: 415.704275846\n",
      "At iteration 1100, time taken: 458.660501957\n",
      "At iteration 1200, time taken: 505.524363041\n",
      "At iteration 1300, time taken: 550.803712845\n",
      "At iteration 1400, time taken: 593.303212881\n",
      "At iteration 1500, time taken: 637.468127966\n",
      "At iteration 1600, time taken: 682.875848055\n",
      "At iteration 1700, time taken: 726.171527863\n",
      "At iteration 1800, time taken: 769.701451063\n",
      "At iteration 1900, time taken: 815.35045886\n",
      "At iteration 2000, time taken: 860.241929054\n",
      "At iteration 2100, time taken: 908.122347832\n",
      "Loss for epoch: 0.187212617057\n",
      "time for epoch: 921.931016922\n"
     ]
    }
   ],
   "source": [
    "trainIters(encoder1, decoder1,10, enc_learning_rate, dec_learning_rate, enc_optimizer, dec_optimizer, loss_function, start_token, end_token )"
   ]
  },
  {
   "cell_type": "code",
   "execution_count": null,
   "metadata": {},
   "outputs": [],
   "source": [
    "generate_training_sequence(laptop_data)"
   ]
  },
  {
   "cell_type": "code",
   "execution_count": 302,
   "metadata": {},
   "outputs": [
    {
     "data": {
      "text/plain": [
       "5000"
      ]
     },
     "execution_count": 302,
     "metadata": {},
     "output_type": "execute_result"
    }
   ],
   "source": [
    "end_token"
   ]
  },
  {
   "cell_type": "code",
   "execution_count": 309,
   "metadata": {},
   "outputs": [
    {
     "ename": "NameError",
     "evalue": "name 'time' is not defined",
     "output_type": "error",
     "traceback": [
      "\u001b[0;31m---------------------------------------------------------------------------\u001b[0m",
      "\u001b[0;31mNameError\u001b[0m                                 Traceback (most recent call last)",
      "\u001b[0;32m<ipython-input-309-b2ea4f3b18e4>\u001b[0m in \u001b[0;36m<module>\u001b[0;34m()\u001b[0m\n\u001b[0;32m----> 1\u001b[0;31m \u001b[0mtime\u001b[0m\u001b[0;34m.\u001b[0m\u001b[0mtime\u001b[0m\u001b[0;34m(\u001b[0m\u001b[0;34m)\u001b[0m\u001b[0;34m\u001b[0m\u001b[0m\n\u001b[0m",
      "\u001b[0;31mNameError\u001b[0m: name 'time' is not defined"
     ]
    }
   ],
   "source": [
    "time.time()"
   ]
  },
  {
   "cell_type": "code",
   "execution_count": null,
   "metadata": {},
   "outputs": [],
   "source": []
  }
 ],
 "metadata": {
  "kernelspec": {
   "display_name": "Python 2",
   "language": "python",
   "name": "python2"
  },
  "language_info": {
   "codemirror_mode": {
    "name": "ipython",
    "version": 2
   },
   "file_extension": ".py",
   "mimetype": "text/x-python",
   "name": "python",
   "nbconvert_exporter": "python",
   "pygments_lexer": "ipython2",
   "version": "2.7.12"
  }
 },
 "nbformat": 4,
 "nbformat_minor": 2
}
